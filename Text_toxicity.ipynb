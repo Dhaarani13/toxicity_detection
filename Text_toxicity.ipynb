{
  "nbformat": 4,
  "nbformat_minor": 0,
  "metadata": {
    "colab": {
      "provenance": [],
      "authorship_tag": "ABX9TyNaSavw5Rsa4PANOmoVd1vi",
      "include_colab_link": true
    },
    "kernelspec": {
      "name": "python3",
      "display_name": "Python 3"
    },
    "language_info": {
      "name": "python"
    }
  },
  "cells": [
    {
      "cell_type": "markdown",
      "metadata": {
        "id": "view-in-github",
        "colab_type": "text"
      },
      "source": [
        "<a href=\"https://colab.research.google.com/github/Dhaarani13/toxicity_detection/blob/main/Text_toxicity.ipynb\" target=\"_parent\"><img src=\"https://colab.research.google.com/assets/colab-badge.svg\" alt=\"Open In Colab\"/></a>"
      ]
    },
    {
      "cell_type": "code",
      "execution_count": null,
      "metadata": {
        "colab": {
          "base_uri": "https://localhost:8080/"
        },
        "id": "hAiGMbl_3n5M",
        "outputId": "c4a1be95-2f93-4078-d139-0a6840c53480"
      },
      "outputs": [
        {
          "output_type": "stream",
          "name": "stdout",
          "text": [
            "Downloading from https://www.kaggle.com/api/v1/datasets/download/julian3833/jigsaw-unintended-bias-in-toxicity-classification?dataset_version_number=1...\n"
          ]
        },
        {
          "output_type": "stream",
          "name": "stderr",
          "text": [
            "100%|██████████| 723M/723M [00:17<00:00, 42.3MB/s]"
          ]
        },
        {
          "output_type": "stream",
          "name": "stdout",
          "text": [
            "Extracting files...\n"
          ]
        },
        {
          "output_type": "stream",
          "name": "stderr",
          "text": [
            "\n"
          ]
        },
        {
          "output_type": "stream",
          "name": "stdout",
          "text": [
            "Path to dataset files: /root/.cache/kagglehub/datasets/julian3833/jigsaw-unintended-bias-in-toxicity-classification/versions/1\n"
          ]
        }
      ],
      "source": [
        "import kagglehub\n",
        "import os\n",
        "# Download latest version\n",
        "path = kagglehub.dataset_download(\"julian3833/jigsaw-unintended-bias-in-toxicity-classification\")\n",
        "\n",
        "print(\"Path to dataset files:\", path)"
      ]
    },
    {
      "cell_type": "code",
      "source": [
        "# Listing the directories in the path in a list\n",
        "\n",
        "dataset_path = \"/root/.cache/kagglehub/datasets/julian3833/jigsaw-unintended-bias-in-toxicity-classification/versions/1\"\n",
        "print(\"Dataset files:\", os.listdir(dataset_path))"
      ],
      "metadata": {
        "colab": {
          "base_uri": "https://localhost:8080/"
        },
        "id": "XZbSrSyh3o9X",
        "outputId": "c4d9303b-f316-407c-aa20-274ee7757e99"
      },
      "execution_count": null,
      "outputs": [
        {
          "output_type": "stream",
          "name": "stdout",
          "text": [
            "Dataset files: ['all_data.csv', 'test_private_expanded.csv', 'train.csv', 'sample_submission.csv', 'toxicity_individual_annotations.csv', 'identity_individual_annotations.csv', 'test_public_expanded.csv', 'test.csv']\n"
          ]
        }
      ]
    },
    {
      "cell_type": "code",
      "source": [
        "# Listing the classes in asl_alphabet_train\n",
        "import pandas as pd\n",
        "\n",
        "# Define the file path\n",
        "csv_file = \"/root/.cache/kagglehub/datasets/julian3833/jigsaw-unintended-bias-in-toxicity-classification/versions/1/all_data.csv\"\n",
        "\n",
        "# Load the CSV file into a DataFrame\n",
        "df = pd.read_csv(csv_file)\n",
        "\n",
        "# Display the first 5 rows\n",
        "print(df.head())"
      ],
      "metadata": {
        "colab": {
          "base_uri": "https://localhost:8080/"
        },
        "id": "EudxwaKD4Mlh",
        "outputId": "6be41a65-efbb-48c1-be7d-6c4075ceb260"
      },
      "execution_count": null,
      "outputs": [
        {
          "output_type": "stream",
          "name": "stdout",
          "text": [
            "        id                                       comment_text  split  \\\n",
            "0  1083994  He got his money... now he lies in wait till a...  train   \n",
            "1   650904  Mad dog will surely put the liberals in mental...  train   \n",
            "2  5902188  And Trump continues his lifelong cowardice by ...  train   \n",
            "3  7084460  \"while arresting a man for resisting arrest\".\\...   test   \n",
            "4  5410943     Tucker and Paul are both total bad ass mofo's.  train   \n",
            "\n",
            "                    created_date  publication_id  parent_id  article_id  \\\n",
            "0  2017-03-06 15:21:53.675241+00              21        NaN      317120   \n",
            "1  2016-12-02 16:44:21.329535+00              21        NaN      154086   \n",
            "2  2017-09-05 19:05:32.341360+00              55        NaN      374342   \n",
            "3  2016-11-01 16:53:33.561631+00              13        NaN      149218   \n",
            "4  2017-06-14 05:08:21.997315+00              21        NaN      344096   \n",
            "\n",
            "     rating  funny  wow  ...  white  asian  latino  other_race_or_ethnicity  \\\n",
            "0  approved      0    0  ...    NaN    NaN     NaN                      NaN   \n",
            "1  approved      0    0  ...    NaN    NaN     NaN                      NaN   \n",
            "2  approved      1    0  ...    NaN    NaN     NaN                      NaN   \n",
            "3  approved      0    0  ...    NaN    NaN     NaN                      NaN   \n",
            "4  approved      0    0  ...    NaN    NaN     NaN                      NaN   \n",
            "\n",
            "   physical_disability  intellectual_or_learning_disability  \\\n",
            "0                  NaN                                  NaN   \n",
            "1                  NaN                                  NaN   \n",
            "2                  NaN                                  NaN   \n",
            "3                  NaN                                  NaN   \n",
            "4                  NaN                                  NaN   \n",
            "\n",
            "   psychiatric_or_mental_illness  other_disability  identity_annotator_count  \\\n",
            "0                            NaN               NaN                         0   \n",
            "1                            NaN               NaN                         0   \n",
            "2                            NaN               NaN                         0   \n",
            "3                            NaN               NaN                         0   \n",
            "4                            NaN               NaN                         0   \n",
            "\n",
            "   toxicity_annotator_count  \n",
            "0                        67  \n",
            "1                        76  \n",
            "2                        63  \n",
            "3                        76  \n",
            "4                        80  \n",
            "\n",
            "[5 rows x 46 columns]\n"
          ]
        }
      ]
    },
    {
      "cell_type": "code",
      "source": [
        "list = df[\"comment_text\"]"
      ],
      "metadata": {
        "id": "ay73ehZH98pL"
      },
      "execution_count": null,
      "outputs": []
    },
    {
      "cell_type": "code",
      "source": [
        "print(list)"
      ],
      "metadata": {
        "colab": {
          "base_uri": "https://localhost:8080/"
        },
        "id": "BzQgs6TgDE5b",
        "outputId": "4560f415-2c9d-485c-e5c5-151c812aa21f"
      },
      "execution_count": null,
      "outputs": [
        {
          "output_type": "stream",
          "name": "stdout",
          "text": [
            "0          He got his money... now he lies in wait till a...\n",
            "1          Mad dog will surely put the liberals in mental...\n",
            "2          And Trump continues his lifelong cowardice by ...\n",
            "3          \"while arresting a man for resisting arrest\".\\...\n",
            "4             Tucker and Paul are both total bad ass mofo's.\n",
            "                                 ...                        \n",
            "1999511    Another man shamming article. If white men did...\n",
            "1999512    \"no matter what is put in front of you regardi...\n",
            "1999513    The Democrat party aided and abetted by it's M...\n",
            "1999514    I just don't find her a very good representati...\n",
            "1999515    You know the Trump fanatics are trolling the G...\n",
            "Name: comment_text, Length: 1999516, dtype: object\n"
          ]
        }
      ]
    },
    {
      "cell_type": "code",
      "source": [
        "list[0]"
      ],
      "metadata": {
        "colab": {
          "base_uri": "https://localhost:8080/",
          "height": 55
        },
        "id": "_TT7vZ1CDLRi",
        "outputId": "98f8de96-d312-4061-9260-d54d6dec5c11"
      },
      "execution_count": null,
      "outputs": [
        {
          "output_type": "execute_result",
          "data": {
            "text/plain": [
              "\"He got his money... now he lies in wait till after the election in 2 yrs.... dirty politicians need to be afraid of Tar and feathers again... but they aren't and so the people get screwed.\""
            ],
            "application/vnd.google.colaboratory.intrinsic+json": {
              "type": "string"
            }
          },
          "metadata": {},
          "execution_count": 6
        }
      ]
    },
    {
      "cell_type": "code",
      "source": [
        "import spacy\n",
        "print(spacy.__version__)"
      ],
      "metadata": {
        "colab": {
          "base_uri": "https://localhost:8080/"
        },
        "id": "Imj_wG1MDOAB",
        "outputId": "0a5976a1-065d-4ca8-a1c9-8f7fb6077dbb"
      },
      "execution_count": null,
      "outputs": [
        {
          "output_type": "stream",
          "name": "stdout",
          "text": [
            "3.7.5\n"
          ]
        }
      ]
    },
    {
      "cell_type": "code",
      "source": [
        "!python -m spacy download en_core_we  b_sm"
      ],
      "metadata": {
        "colab": {
          "base_uri": "https://localhost:8080/"
        },
        "id": "su0p0qaJD7IN",
        "outputId": "a3e4df02-a553-4271-8f11-32363f79a8f9"
      },
      "execution_count": null,
      "outputs": [
        {
          "output_type": "stream",
          "name": "stdout",
          "text": [
            "\n",
            "\u001b[38;5;1m✘ No compatible package found for 'en_core_we' (spaCy v3.7.5)\u001b[0m\n",
            "\n"
          ]
        }
      ]
    },
    {
      "cell_type": "code",
      "source": [
        "import spacy\n",
        "load_model = spacy.load(\"en_core_web_sm\")"
      ],
      "metadata": {
        "id": "Go47rJfdEMGE"
      },
      "execution_count": null,
      "outputs": []
    },
    {
      "cell_type": "code",
      "source": [
        "doc = load_model(list[0])\n",
        "for sent in doc.sents:\n",
        "    print(sent)\n",
        "    print('********')"
      ],
      "metadata": {
        "colab": {
          "base_uri": "https://localhost:8080/"
        },
        "id": "6siKddkjER-A",
        "outputId": "902e43f0-96e7-4f7c-adcc-0d786a6ce66f"
      },
      "execution_count": null,
      "outputs": [
        {
          "output_type": "stream",
          "name": "stdout",
          "text": [
            "He got his money... now he lies in wait till after the election in 2 yrs....\n",
            "********\n",
            "dirty politicians need to be afraid of Tar and feathers again...\n",
            "********\n",
            "but they aren't\n",
            "********\n",
            "and so the people get screwed.\n",
            "********\n"
          ]
        }
      ]
    },
    {
      "cell_type": "code",
      "source": [
        "for token in doc:\n",
        "    print(token.text)\n",
        "    print(\"__________\")"
      ],
      "metadata": {
        "colab": {
          "base_uri": "https://localhost:8080/"
        },
        "id": "RFRHrOzCEYxG",
        "outputId": "abaf5dfd-1026-46cf-bb3d-ce1e7743cd97"
      },
      "execution_count": null,
      "outputs": [
        {
          "output_type": "stream",
          "name": "stdout",
          "text": [
            "He\n",
            "__________\n",
            "got\n",
            "__________\n",
            "his\n",
            "__________\n",
            "money\n",
            "__________\n",
            "...\n",
            "__________\n",
            "now\n",
            "__________\n",
            "he\n",
            "__________\n",
            "lies\n",
            "__________\n",
            "in\n",
            "__________\n",
            "wait\n",
            "__________\n",
            "till\n",
            "__________\n",
            "after\n",
            "__________\n",
            "the\n",
            "__________\n",
            "election\n",
            "__________\n",
            "in\n",
            "__________\n",
            "2\n",
            "__________\n",
            "yrs\n",
            "__________\n",
            "....\n",
            "__________\n",
            "dirty\n",
            "__________\n",
            "politicians\n",
            "__________\n",
            "need\n",
            "__________\n",
            "to\n",
            "__________\n",
            "be\n",
            "__________\n",
            "afraid\n",
            "__________\n",
            "of\n",
            "__________\n",
            "Tar\n",
            "__________\n",
            "and\n",
            "__________\n",
            "feathers\n",
            "__________\n",
            "again\n",
            "__________\n",
            "...\n",
            "__________\n",
            "but\n",
            "__________\n",
            "they\n",
            "__________\n",
            "are\n",
            "__________\n",
            "n't\n",
            "__________\n",
            "and\n",
            "__________\n",
            "so\n",
            "__________\n",
            "the\n",
            "__________\n",
            "people\n",
            "__________\n",
            "get\n",
            "__________\n",
            "screwed\n",
            "__________\n",
            ".\n",
            "__________\n"
          ]
        }
      ]
    },
    {
      "cell_type": "code",
      "source": [
        "lower_tokens = [token.lower_ for token in doc]\n",
        "print(\"Lowercase tokens:\", lower_tokens)\n",
        "\n",
        "lower_text = doc.text.lower()\n",
        "print(\"Lowercase text:\", lower_text)"
      ],
      "metadata": {
        "colab": {
          "base_uri": "https://localhost:8080/"
        },
        "id": "OYeJY63UEoX8",
        "outputId": "ecb2fd32-caea-42a6-a2df-63fd6104c984"
      },
      "execution_count": null,
      "outputs": [
        {
          "output_type": "stream",
          "name": "stdout",
          "text": [
            "Lowercase tokens: ['he', 'got', 'his', 'money', '...', 'now', 'he', 'lies', 'in', 'wait', 'till', 'after', 'the', 'election', 'in', '2', 'yrs', '....', 'dirty', 'politicians', 'need', 'to', 'be', 'afraid', 'of', 'tar', 'and', 'feathers', 'again', '...', 'but', 'they', 'are', \"n't\", 'and', 'so', 'the', 'people', 'get', 'screwed', '.']\n",
            "Lowercase text: he got his money... now he lies in wait till after the election in 2 yrs.... dirty politicians need to be afraid of tar and feathers again... but they aren't and so the people get screwed.\n"
          ]
        }
      ]
    },
    {
      "cell_type": "code",
      "source": [
        "indi_tokens = [token.text for token in doc if not token.is_punct and token.is_alpha and not token.is_digit and not token.is_digit  ]\n",
        "joined_tokens = ' '.join(indi_tokens)\n",
        "print(\"Individual tokens:\", indi_tokens)\n",
        "print(joined_tokens)"
      ],
      "metadata": {
        "colab": {
          "base_uri": "https://localhost:8080/"
        },
        "id": "TK2_4U7gE6XP",
        "outputId": "28ee0074-5c9d-4996-ff85-0f195f7be869"
      },
      "execution_count": null,
      "outputs": [
        {
          "output_type": "stream",
          "name": "stdout",
          "text": [
            "Individual tokens: ['He', 'got', 'his', 'money', 'now', 'he', 'lies', 'in', 'wait', 'till', 'after', 'the', 'election', 'in', 'yrs', 'dirty', 'politicians', 'need', 'to', 'be', 'afraid', 'of', 'Tar', 'and', 'feathers', 'again', 'but', 'they', 'are', 'and', 'so', 'the', 'people', 'get', 'screwed']\n",
            "He got his money now he lies in wait till after the election in yrs dirty politicians need to be afraid of Tar and feathers again but they are and so the people get screwed\n"
          ]
        }
      ]
    },
    {
      "cell_type": "code",
      "source": [
        "print(load_model.Defaults.stop_words)"
      ],
      "metadata": {
        "colab": {
          "base_uri": "https://localhost:8080/"
        },
        "id": "04BgIaHLvS_M",
        "outputId": "09581e78-e874-4a3b-8284-fafcfe240a8b"
      },
      "execution_count": null,
      "outputs": [
        {
          "output_type": "stream",
          "name": "stdout",
          "text": [
            "{'noone', 'whom', 'twenty', 'these', 'also', 'front', 'sometime', 'fifty', 'wherein', 'his', '’m', 'seemed', 'n’t', 'through', 'next', 'against', 'two', 'part', '’re', 'except', 'would', 'moreover', 'together', 'eight', 'during', 'myself', 'nowhere', 'forty', 'empty', 'whole', \"'s\", 'many', 'throughout', 'our', 'beyond', 'made', 'among', 'anyhow', 'call', 'again', 'from', 'seeming', 'no', 'hereupon', 'nor', 'yourselves', 'be', 'thereby', \"'m\", 'namely', 'too', 'their', 'will', 'really', 'seems', 'those', 'ours', 'we', 'get', 'elsewhere', 'latter', 'whatever', 'hence', 'least', 'six', 'itself', 'below', 'up', 'became', 'most', 'does', 'becomes', 'besides', 'others', 'across', 'therein', 'yours', 'alone', 'thus', 'above', 'show', 'who', 'himself', 'anyone', 'anything', 'now', 'could', 'anywhere', 'since', 'some', '‘d', 'nevertheless', 'therefore', 'behind', 'were', 'ten', 'say', 'been', 'very', 'them', 'already', 'ourselves', 'anyway', 'by', 'so', 'him', 'onto', 'full', 'about', '’d', 'nine', 'may', 'here', 'whenever', 'thru', 'whence', 'fifteen', 'her', \"'re\", 'hundred', 'he', 'under', 'four', 'upon', 'and', 'only', 'last', 'become', 'indeed', 'this', 'please', 'a', \"n't\", 'never', 'give', 'have', 'on', 'if', 'it', 'whether', 'while', 'whose', 'own', 'all', '‘s', 'once', 'meanwhile', 'enough', 'wherever', 'becoming', '’s', 'which', 'otherwise', 'other', 'somewhere', 'without', 'more', 'every', 'herself', 'there', 'had', 'less', 'keep', 'even', 'am', 'me', 'everyone', 'first', 'put', 'else', 'for', 'one', 'into', 'your', '‘ve', 'must', 'each', 'until', 'go', 'regarding', \"'ll\", 'although', 'per', 'used', 'might', 'back', 'or', 'before', 'along', 'was', 'any', 'still', 'something', 'with', 'twelve', 'not', 'nothing', 'off', 'hereby', 'doing', 'several', 'hereafter', 'further', 'in', 'almost', 'another', 'should', 'afterwards', 'bottom', 're', 'always', 'did', 'latterly', 'whereupon', 'i', 'formerly', 'name', 'mostly', 'my', 'done', 'hers', 'us', 'see', 'can', 'why', 'where', 'because', 'what', 'quite', 'out', 'either', 'n‘t', 'sometimes', 'rather', 'via', 'often', 'amount', 'an', 'being', 'third', 'amongst', 'none', 'toward', 'whereafter', 'both', 'how', 'is', 'eleven', 'though', 'over', 'seem', 'ever', 'everywhere', 'yet', 'yourself', 'of', 'to', '‘m', 'unless', '‘re', 'move', 'towards', 'you', 'down', 'they', 'perhaps', 'much', 'than', 'at', 'mine', 'cannot', 'but', 'its', 'thereupon', 'are', 'within', 'whereas', 'using', 'ca', 'around', 'as', 'various', 'make', '’ve', 'after', 'however', 'thence', 'that', \"'ve\", 'then', 'whereby', 'such', 'nobody', 'when', '’ll', 'few', 'side', 'same', 'just', 'has', 'thereafter', 'beside', 'five', 'somehow', 'former', 'someone', 'she', 'herein', 'themselves', 'well', 'neither', 'whoever', '‘ll', 'due', 'take', 'serious', 'top', 'between', 'three', 'do', 'sixty', 'beforehand', 'the', 'everything', \"'d\", 'whither'}\n"
          ]
        }
      ]
    },
    {
      "cell_type": "code",
      "source": [
        "len(load_model.Defaults.stop_words)"
      ],
      "metadata": {
        "colab": {
          "base_uri": "https://localhost:8080/"
        },
        "id": "zXQy74KOxi0J",
        "outputId": "ef4d8431-40d5-46ea-88d5-beb9e72b247a"
      },
      "execution_count": null,
      "outputs": [
        {
          "output_type": "execute_result",
          "data": {
            "text/plain": [
              "326"
            ]
          },
          "metadata": {},
          "execution_count": 15
        }
      ]
    },
    {
      "cell_type": "code",
      "source": [
        "import nltk"
      ],
      "metadata": {
        "id": "wlCsrHa2xpN0"
      },
      "execution_count": null,
      "outputs": []
    },
    {
      "cell_type": "code",
      "source": [
        "from sklearn.feature_extraction.text import CountVectorizer\n",
        "# https://scikit-learn.org/stable/modules/generated/sklearn.feature_extraction.text.CountVectorizer.html\n",
        "corpus = [list[0]]\n",
        "\n",
        "vectorizer = CountVectorizer(lowercase=True)\n",
        "\n",
        "X = vectorizer.fit_transform(corpus)\n",
        "\n",
        "print(\"Unique words:\", vectorizer.get_feature_names_out())\n",
        "print(\"Bag of Words Representation:\\n\", X.toarray())\n"
      ],
      "metadata": {
        "colab": {
          "base_uri": "https://localhost:8080/"
        },
        "id": "bh9Z9gMTx1Oe",
        "outputId": "a05b5f34-ce8e-43ed-d80d-3dba1e6ae342"
      },
      "execution_count": null,
      "outputs": [
        {
          "output_type": "stream",
          "name": "stdout",
          "text": [
            "Unique words: ['afraid' 'after' 'again' 'and' 'aren' 'be' 'but' 'dirty' 'election'\n",
            " 'feathers' 'get' 'got' 'he' 'his' 'in' 'lies' 'money' 'need' 'now' 'of'\n",
            " 'people' 'politicians' 'screwed' 'so' 'tar' 'the' 'they' 'till' 'to'\n",
            " 'wait' 'yrs']\n",
            "Bag of Words Representation:\n",
            " [[1 1 1 2 1 1 1 1 1 1 1 1 2 1 2 1 1 1 1 1 1 1 1 1 1 2 1 1 1 1 1]]\n"
          ]
        }
      ]
    },
    {
      "cell_type": "code",
      "source": [
        "import pandas as pd\n",
        "from sklearn.feature_extraction.text import TfidfVectorizer\n",
        "#https://scikit-learn.org/stable/modules/generated/sklearn.feature_extraction.text.TfidfVectorizer.html\n",
        "\n",
        "vectorizer = TfidfVectorizer()\n",
        "\n",
        "X_tfidf = vectorizer.fit_transform(corpus)\n",
        "\n",
        "feature_names = vectorizer.get_feature_names_out()\n",
        "tfidf_matrix = X_tfidf.toarray()\n",
        "df_tfidf = pd.DataFrame(tfidf_matrix, columns=feature_names)\n",
        "df_tfidf"
      ],
      "metadata": {
        "colab": {
          "base_uri": "https://localhost:8080/",
          "height": 143
        },
        "id": "z6HWIK2TEcFW",
        "outputId": "c41dc2fd-5dfd-48f6-e3e4-728c26b81b0f"
      },
      "execution_count": null,
      "outputs": [
        {
          "output_type": "execute_result",
          "data": {
            "text/plain": [
              "   beautiful  birthday       day        is        it      mary     party  \\\n",
              "0   0.000000  0.000000  0.480458  0.373119  0.000000  0.000000  0.000000   \n",
              "1   0.000000  0.504611  0.000000  0.298032  0.000000  0.504611  0.504611   \n",
              "2   0.584483  0.000000  0.444514  0.345205  0.584483  0.000000  0.000000   \n",
              "\n",
              "      sunny     today  \n",
              "0  0.631745  0.480458  \n",
              "1  0.000000  0.383770  \n",
              "2  0.000000  0.000000  "
            ],
            "text/html": [
              "\n",
              "  <div id=\"df-275c15c1-b2cc-4309-af34-7725943352df\" class=\"colab-df-container\">\n",
              "    <div>\n",
              "<style scoped>\n",
              "    .dataframe tbody tr th:only-of-type {\n",
              "        vertical-align: middle;\n",
              "    }\n",
              "\n",
              "    .dataframe tbody tr th {\n",
              "        vertical-align: top;\n",
              "    }\n",
              "\n",
              "    .dataframe thead th {\n",
              "        text-align: right;\n",
              "    }\n",
              "</style>\n",
              "<table border=\"1\" class=\"dataframe\">\n",
              "  <thead>\n",
              "    <tr style=\"text-align: right;\">\n",
              "      <th></th>\n",
              "      <th>beautiful</th>\n",
              "      <th>birthday</th>\n",
              "      <th>day</th>\n",
              "      <th>is</th>\n",
              "      <th>it</th>\n",
              "      <th>mary</th>\n",
              "      <th>party</th>\n",
              "      <th>sunny</th>\n",
              "      <th>today</th>\n",
              "    </tr>\n",
              "  </thead>\n",
              "  <tbody>\n",
              "    <tr>\n",
              "      <th>0</th>\n",
              "      <td>0.000000</td>\n",
              "      <td>0.000000</td>\n",
              "      <td>0.480458</td>\n",
              "      <td>0.373119</td>\n",
              "      <td>0.000000</td>\n",
              "      <td>0.000000</td>\n",
              "      <td>0.000000</td>\n",
              "      <td>0.631745</td>\n",
              "      <td>0.480458</td>\n",
              "    </tr>\n",
              "    <tr>\n",
              "      <th>1</th>\n",
              "      <td>0.000000</td>\n",
              "      <td>0.504611</td>\n",
              "      <td>0.000000</td>\n",
              "      <td>0.298032</td>\n",
              "      <td>0.000000</td>\n",
              "      <td>0.504611</td>\n",
              "      <td>0.504611</td>\n",
              "      <td>0.000000</td>\n",
              "      <td>0.383770</td>\n",
              "    </tr>\n",
              "    <tr>\n",
              "      <th>2</th>\n",
              "      <td>0.584483</td>\n",
              "      <td>0.000000</td>\n",
              "      <td>0.444514</td>\n",
              "      <td>0.345205</td>\n",
              "      <td>0.584483</td>\n",
              "      <td>0.000000</td>\n",
              "      <td>0.000000</td>\n",
              "      <td>0.000000</td>\n",
              "      <td>0.000000</td>\n",
              "    </tr>\n",
              "  </tbody>\n",
              "</table>\n",
              "</div>\n",
              "    <div class=\"colab-df-buttons\">\n",
              "\n",
              "  <div class=\"colab-df-container\">\n",
              "    <button class=\"colab-df-convert\" onclick=\"convertToInteractive('df-275c15c1-b2cc-4309-af34-7725943352df')\"\n",
              "            title=\"Convert this dataframe to an interactive table.\"\n",
              "            style=\"display:none;\">\n",
              "\n",
              "  <svg xmlns=\"http://www.w3.org/2000/svg\" height=\"24px\" viewBox=\"0 -960 960 960\">\n",
              "    <path d=\"M120-120v-720h720v720H120Zm60-500h600v-160H180v160Zm220 220h160v-160H400v160Zm0 220h160v-160H400v160ZM180-400h160v-160H180v160Zm440 0h160v-160H620v160ZM180-180h160v-160H180v160Zm440 0h160v-160H620v160Z\"/>\n",
              "  </svg>\n",
              "    </button>\n",
              "\n",
              "  <style>\n",
              "    .colab-df-container {\n",
              "      display:flex;\n",
              "      gap: 12px;\n",
              "    }\n",
              "\n",
              "    .colab-df-convert {\n",
              "      background-color: #E8F0FE;\n",
              "      border: none;\n",
              "      border-radius: 50%;\n",
              "      cursor: pointer;\n",
              "      display: none;\n",
              "      fill: #1967D2;\n",
              "      height: 32px;\n",
              "      padding: 0 0 0 0;\n",
              "      width: 32px;\n",
              "    }\n",
              "\n",
              "    .colab-df-convert:hover {\n",
              "      background-color: #E2EBFA;\n",
              "      box-shadow: 0px 1px 2px rgba(60, 64, 67, 0.3), 0px 1px 3px 1px rgba(60, 64, 67, 0.15);\n",
              "      fill: #174EA6;\n",
              "    }\n",
              "\n",
              "    .colab-df-buttons div {\n",
              "      margin-bottom: 4px;\n",
              "    }\n",
              "\n",
              "    [theme=dark] .colab-df-convert {\n",
              "      background-color: #3B4455;\n",
              "      fill: #D2E3FC;\n",
              "    }\n",
              "\n",
              "    [theme=dark] .colab-df-convert:hover {\n",
              "      background-color: #434B5C;\n",
              "      box-shadow: 0px 1px 3px 1px rgba(0, 0, 0, 0.15);\n",
              "      filter: drop-shadow(0px 1px 2px rgba(0, 0, 0, 0.3));\n",
              "      fill: #FFFFFF;\n",
              "    }\n",
              "  </style>\n",
              "\n",
              "    <script>\n",
              "      const buttonEl =\n",
              "        document.querySelector('#df-275c15c1-b2cc-4309-af34-7725943352df button.colab-df-convert');\n",
              "      buttonEl.style.display =\n",
              "        google.colab.kernel.accessAllowed ? 'block' : 'none';\n",
              "\n",
              "      async function convertToInteractive(key) {\n",
              "        const element = document.querySelector('#df-275c15c1-b2cc-4309-af34-7725943352df');\n",
              "        const dataTable =\n",
              "          await google.colab.kernel.invokeFunction('convertToInteractive',\n",
              "                                                    [key], {});\n",
              "        if (!dataTable) return;\n",
              "\n",
              "        const docLinkHtml = 'Like what you see? Visit the ' +\n",
              "          '<a target=\"_blank\" href=https://colab.research.google.com/notebooks/data_table.ipynb>data table notebook</a>'\n",
              "          + ' to learn more about interactive tables.';\n",
              "        element.innerHTML = '';\n",
              "        dataTable['output_type'] = 'display_data';\n",
              "        await google.colab.output.renderOutput(dataTable, element);\n",
              "        const docLink = document.createElement('div');\n",
              "        docLink.innerHTML = docLinkHtml;\n",
              "        element.appendChild(docLink);\n",
              "      }\n",
              "    </script>\n",
              "  </div>\n",
              "\n",
              "\n",
              "<div id=\"df-078d1fdc-0e27-4f4b-aef3-8cca31771cde\">\n",
              "  <button class=\"colab-df-quickchart\" onclick=\"quickchart('df-078d1fdc-0e27-4f4b-aef3-8cca31771cde')\"\n",
              "            title=\"Suggest charts\"\n",
              "            style=\"display:none;\">\n",
              "\n",
              "<svg xmlns=\"http://www.w3.org/2000/svg\" height=\"24px\"viewBox=\"0 0 24 24\"\n",
              "     width=\"24px\">\n",
              "    <g>\n",
              "        <path d=\"M19 3H5c-1.1 0-2 .9-2 2v14c0 1.1.9 2 2 2h14c1.1 0 2-.9 2-2V5c0-1.1-.9-2-2-2zM9 17H7v-7h2v7zm4 0h-2V7h2v10zm4 0h-2v-4h2v4z\"/>\n",
              "    </g>\n",
              "</svg>\n",
              "  </button>\n",
              "\n",
              "<style>\n",
              "  .colab-df-quickchart {\n",
              "      --bg-color: #E8F0FE;\n",
              "      --fill-color: #1967D2;\n",
              "      --hover-bg-color: #E2EBFA;\n",
              "      --hover-fill-color: #174EA6;\n",
              "      --disabled-fill-color: #AAA;\n",
              "      --disabled-bg-color: #DDD;\n",
              "  }\n",
              "\n",
              "  [theme=dark] .colab-df-quickchart {\n",
              "      --bg-color: #3B4455;\n",
              "      --fill-color: #D2E3FC;\n",
              "      --hover-bg-color: #434B5C;\n",
              "      --hover-fill-color: #FFFFFF;\n",
              "      --disabled-bg-color: #3B4455;\n",
              "      --disabled-fill-color: #666;\n",
              "  }\n",
              "\n",
              "  .colab-df-quickchart {\n",
              "    background-color: var(--bg-color);\n",
              "    border: none;\n",
              "    border-radius: 50%;\n",
              "    cursor: pointer;\n",
              "    display: none;\n",
              "    fill: var(--fill-color);\n",
              "    height: 32px;\n",
              "    padding: 0;\n",
              "    width: 32px;\n",
              "  }\n",
              "\n",
              "  .colab-df-quickchart:hover {\n",
              "    background-color: var(--hover-bg-color);\n",
              "    box-shadow: 0 1px 2px rgba(60, 64, 67, 0.3), 0 1px 3px 1px rgba(60, 64, 67, 0.15);\n",
              "    fill: var(--button-hover-fill-color);\n",
              "  }\n",
              "\n",
              "  .colab-df-quickchart-complete:disabled,\n",
              "  .colab-df-quickchart-complete:disabled:hover {\n",
              "    background-color: var(--disabled-bg-color);\n",
              "    fill: var(--disabled-fill-color);\n",
              "    box-shadow: none;\n",
              "  }\n",
              "\n",
              "  .colab-df-spinner {\n",
              "    border: 2px solid var(--fill-color);\n",
              "    border-color: transparent;\n",
              "    border-bottom-color: var(--fill-color);\n",
              "    animation:\n",
              "      spin 1s steps(1) infinite;\n",
              "  }\n",
              "\n",
              "  @keyframes spin {\n",
              "    0% {\n",
              "      border-color: transparent;\n",
              "      border-bottom-color: var(--fill-color);\n",
              "      border-left-color: var(--fill-color);\n",
              "    }\n",
              "    20% {\n",
              "      border-color: transparent;\n",
              "      border-left-color: var(--fill-color);\n",
              "      border-top-color: var(--fill-color);\n",
              "    }\n",
              "    30% {\n",
              "      border-color: transparent;\n",
              "      border-left-color: var(--fill-color);\n",
              "      border-top-color: var(--fill-color);\n",
              "      border-right-color: var(--fill-color);\n",
              "    }\n",
              "    40% {\n",
              "      border-color: transparent;\n",
              "      border-right-color: var(--fill-color);\n",
              "      border-top-color: var(--fill-color);\n",
              "    }\n",
              "    60% {\n",
              "      border-color: transparent;\n",
              "      border-right-color: var(--fill-color);\n",
              "    }\n",
              "    80% {\n",
              "      border-color: transparent;\n",
              "      border-right-color: var(--fill-color);\n",
              "      border-bottom-color: var(--fill-color);\n",
              "    }\n",
              "    90% {\n",
              "      border-color: transparent;\n",
              "      border-bottom-color: var(--fill-color);\n",
              "    }\n",
              "  }\n",
              "</style>\n",
              "\n",
              "  <script>\n",
              "    async function quickchart(key) {\n",
              "      const quickchartButtonEl =\n",
              "        document.querySelector('#' + key + ' button');\n",
              "      quickchartButtonEl.disabled = true;  // To prevent multiple clicks.\n",
              "      quickchartButtonEl.classList.add('colab-df-spinner');\n",
              "      try {\n",
              "        const charts = await google.colab.kernel.invokeFunction(\n",
              "            'suggestCharts', [key], {});\n",
              "      } catch (error) {\n",
              "        console.error('Error during call to suggestCharts:', error);\n",
              "      }\n",
              "      quickchartButtonEl.classList.remove('colab-df-spinner');\n",
              "      quickchartButtonEl.classList.add('colab-df-quickchart-complete');\n",
              "    }\n",
              "    (() => {\n",
              "      let quickchartButtonEl =\n",
              "        document.querySelector('#df-078d1fdc-0e27-4f4b-aef3-8cca31771cde button');\n",
              "      quickchartButtonEl.style.display =\n",
              "        google.colab.kernel.accessAllowed ? 'block' : 'none';\n",
              "    })();\n",
              "  </script>\n",
              "</div>\n",
              "\n",
              "  <div id=\"id_2f2a8226-9628-4eb2-9150-f394ada56f6e\">\n",
              "    <style>\n",
              "      .colab-df-generate {\n",
              "        background-color: #E8F0FE;\n",
              "        border: none;\n",
              "        border-radius: 50%;\n",
              "        cursor: pointer;\n",
              "        display: none;\n",
              "        fill: #1967D2;\n",
              "        height: 32px;\n",
              "        padding: 0 0 0 0;\n",
              "        width: 32px;\n",
              "      }\n",
              "\n",
              "      .colab-df-generate:hover {\n",
              "        background-color: #E2EBFA;\n",
              "        box-shadow: 0px 1px 2px rgba(60, 64, 67, 0.3), 0px 1px 3px 1px rgba(60, 64, 67, 0.15);\n",
              "        fill: #174EA6;\n",
              "      }\n",
              "\n",
              "      [theme=dark] .colab-df-generate {\n",
              "        background-color: #3B4455;\n",
              "        fill: #D2E3FC;\n",
              "      }\n",
              "\n",
              "      [theme=dark] .colab-df-generate:hover {\n",
              "        background-color: #434B5C;\n",
              "        box-shadow: 0px 1px 3px 1px rgba(0, 0, 0, 0.15);\n",
              "        filter: drop-shadow(0px 1px 2px rgba(0, 0, 0, 0.3));\n",
              "        fill: #FFFFFF;\n",
              "      }\n",
              "    </style>\n",
              "    <button class=\"colab-df-generate\" onclick=\"generateWithVariable('df_tfidf')\"\n",
              "            title=\"Generate code using this dataframe.\"\n",
              "            style=\"display:none;\">\n",
              "\n",
              "  <svg xmlns=\"http://www.w3.org/2000/svg\" height=\"24px\"viewBox=\"0 0 24 24\"\n",
              "       width=\"24px\">\n",
              "    <path d=\"M7,19H8.4L18.45,9,17,7.55,7,17.6ZM5,21V16.75L18.45,3.32a2,2,0,0,1,2.83,0l1.4,1.43a1.91,1.91,0,0,1,.58,1.4,1.91,1.91,0,0,1-.58,1.4L9.25,21ZM18.45,9,17,7.55Zm-12,3A5.31,5.31,0,0,0,4.9,8.1,5.31,5.31,0,0,0,1,6.5,5.31,5.31,0,0,0,4.9,4.9,5.31,5.31,0,0,0,6.5,1,5.31,5.31,0,0,0,8.1,4.9,5.31,5.31,0,0,0,12,6.5,5.46,5.46,0,0,0,6.5,12Z\"/>\n",
              "  </svg>\n",
              "    </button>\n",
              "    <script>\n",
              "      (() => {\n",
              "      const buttonEl =\n",
              "        document.querySelector('#id_2f2a8226-9628-4eb2-9150-f394ada56f6e button.colab-df-generate');\n",
              "      buttonEl.style.display =\n",
              "        google.colab.kernel.accessAllowed ? 'block' : 'none';\n",
              "\n",
              "      buttonEl.onclick = () => {\n",
              "        google.colab.notebook.generateWithVariable('df_tfidf');\n",
              "      }\n",
              "      })();\n",
              "    </script>\n",
              "  </div>\n",
              "\n",
              "    </div>\n",
              "  </div>\n"
            ],
            "application/vnd.google.colaboratory.intrinsic+json": {
              "type": "dataframe",
              "variable_name": "df_tfidf",
              "summary": "{\n  \"name\": \"df_tfidf\",\n  \"rows\": 3,\n  \"fields\": [\n    {\n      \"column\": \"beautiful\",\n      \"properties\": {\n        \"dtype\": \"number\",\n        \"std\": 0.33745136024066796,\n        \"min\": 0.0,\n        \"max\": 0.5844829010200651,\n        \"num_unique_values\": 2,\n        \"samples\": [\n          0.5844829010200651,\n          0.0\n        ],\n        \"semantic_type\": \"\",\n        \"description\": \"\"\n      }\n    },\n    {\n      \"column\": \"birthday\",\n      \"properties\": {\n        \"dtype\": \"number\",\n        \"std\": 0.2913374930643411,\n        \"min\": 0.0,\n        \"max\": 0.5046113401371842,\n        \"num_unique_values\": 2,\n        \"samples\": [\n          0.5046113401371842,\n          0.0\n        ],\n        \"semantic_type\": \"\",\n        \"description\": \"\"\n      }\n    },\n    {\n      \"column\": \"day\",\n      \"properties\": {\n        \"dtype\": \"number\",\n        \"std\": 0.26762075840983257,\n        \"min\": 0.0,\n        \"max\": 0.4804583972923858,\n        \"num_unique_values\": 3,\n        \"samples\": [\n          0.4804583972923858,\n          0.0\n        ],\n        \"semantic_type\": \"\",\n        \"description\": \"\"\n      }\n    },\n    {\n      \"column\": \"is\",\n      \"properties\": {\n        \"dtype\": \"number\",\n        \"std\": 0.03795304711606206,\n        \"min\": 0.2980315863446099,\n        \"max\": 0.3731188059313277,\n        \"num_unique_values\": 3,\n        \"samples\": [\n          0.3731188059313277,\n          0.2980315863446099\n        ],\n        \"semantic_type\": \"\",\n        \"description\": \"\"\n      }\n    },\n    {\n      \"column\": \"it\",\n      \"properties\": {\n        \"dtype\": \"number\",\n        \"std\": 0.33745136024066796,\n        \"min\": 0.0,\n        \"max\": 0.5844829010200651,\n        \"num_unique_values\": 2,\n        \"samples\": [\n          0.5844829010200651,\n          0.0\n        ],\n        \"semantic_type\": \"\",\n        \"description\": \"\"\n      }\n    },\n    {\n      \"column\": \"mary\",\n      \"properties\": {\n        \"dtype\": \"number\",\n        \"std\": 0.2913374930643411,\n        \"min\": 0.0,\n        \"max\": 0.5046113401371842,\n        \"num_unique_values\": 2,\n        \"samples\": [\n          0.5046113401371842,\n          0.0\n        ],\n        \"semantic_type\": \"\",\n        \"description\": \"\"\n      }\n    },\n    {\n      \"column\": \"party\",\n      \"properties\": {\n        \"dtype\": \"number\",\n        \"std\": 0.2913374930643411,\n        \"min\": 0.0,\n        \"max\": 0.5046113401371842,\n        \"num_unique_values\": 2,\n        \"samples\": [\n          0.5046113401371842,\n          0.0\n        ],\n        \"semantic_type\": \"\",\n        \"description\": \"\"\n      }\n    },\n    {\n      \"column\": \"sunny\",\n      \"properties\": {\n        \"dtype\": \"number\",\n        \"std\": 0.36473817714576406,\n        \"min\": 0.0,\n        \"max\": 0.6317450542765208,\n        \"num_unique_values\": 2,\n        \"samples\": [\n          0.0,\n          0.6317450542765208\n        ],\n        \"semantic_type\": \"\",\n        \"description\": \"\"\n      }\n    },\n    {\n      \"column\": \"today\",\n      \"properties\": {\n        \"dtype\": \"number\",\n        \"std\": 0.2541221133119767,\n        \"min\": 0.0,\n        \"max\": 0.4804583972923858,\n        \"num_unique_values\": 3,\n        \"samples\": [\n          0.4804583972923858,\n          0.3837699307603192\n        ],\n        \"semantic_type\": \"\",\n        \"description\": \"\"\n      }\n    }\n  ]\n}"
            }
          },
          "metadata": {},
          "execution_count": 22
        }
      ]
    },
    {
      "cell_type": "code",
      "source": [
        "import gensim.downloader as api\n",
        "# More options at https://github.com/Rare-Technologies/gensim-data\n",
        "# What are glove vectors? https://nlp.stanford.edu/pubs/glove.pdf\n",
        "# More info about glove-wiki-gigaword-50: https://huggingface.co/fse/glove-wiki-gigaword-50\n",
        "model  = api.load('glove-wiki-gigaword-50')"
      ],
      "metadata": {
        "colab": {
          "base_uri": "https://localhost:8080/"
        },
        "id": "Pfnd8h4ZJUZo",
        "outputId": "31772d75-c2ec-4b79-b5a3-92e9a579a586"
      },
      "execution_count": null,
      "outputs": [
        {
          "output_type": "stream",
          "name": "stdout",
          "text": [
            "[==================================================] 100.0% 66.0/66.0MB downloaded\n"
          ]
        }
      ]
    },
    {
      "cell_type": "code",
      "source": [
        "model.most_similar([model['women']],negative=\"people\", topn =3)"
      ],
      "metadata": {
        "colab": {
          "base_uri": "https://localhost:8080/"
        },
        "id": "AovXDHRvLeHe",
        "outputId": "211ad984-0de3-49b3-9077-da49b706d4f2"
      },
      "execution_count": null,
      "outputs": [
        {
          "output_type": "execute_result",
          "data": {
            "text/plain": [
              "[('women', 0.9906585812568665),\n",
              " ('men', 0.8466615676879883),\n",
              " ('girls', 0.792124330997467)]"
            ]
          },
          "metadata": {},
          "execution_count": 27
        }
      ]
    },
    {
      "cell_type": "code",
      "source": [
        "model.most_similar(positive=['queen','woman'], negative =['king'])"
      ],
      "metadata": {
        "colab": {
          "base_uri": "https://localhost:8080/"
        },
        "id": "2vCiV0_qLlkY",
        "outputId": "3a6daa75-422c-40d8-cd9d-52ed1dbb679f"
      },
      "execution_count": null,
      "outputs": [
        {
          "output_type": "execute_result",
          "data": {
            "text/plain": [
              "[('girl', 0.8442097902297974),\n",
              " ('her', 0.7585961222648621),\n",
              " ('herself', 0.7506817579269409),\n",
              " ('mother', 0.7393710613250732),\n",
              " ('she', 0.7229319214820862),\n",
              " ('girlfriend', 0.7221018075942993),\n",
              " ('female', 0.7024175524711609),\n",
              " ('boy', 0.7010839581489563),\n",
              " ('male', 0.6927631497383118),\n",
              " ('sister', 0.691762387752533)]"
            ]
          },
          "metadata": {},
          "execution_count": 28
        }
      ]
    },
    {
      "cell_type": "code",
      "source": [],
      "metadata": {
        "id": "_v_7E_YLMDXS"
      },
      "execution_count": null,
      "outputs": []
    }
  ]
}